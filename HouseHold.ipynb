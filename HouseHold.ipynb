{
  "nbformat": 4,
  "nbformat_minor": 0,
  "metadata": {
    "colab": {
      "provenance": [],
      "authorship_tag": "ABX9TyMY2KBRo45Dy5y6eEjJPI6U",
      "include_colab_link": true
    },
    "kernelspec": {
      "name": "python3",
      "display_name": "Python 3"
    },
    "language_info": {
      "name": "python"
    }
  },
  "cells": [
    {
      "cell_type": "markdown",
      "metadata": {
        "id": "view-in-github",
        "colab_type": "text"
      },
      "source": [
        "<a href=\"https://colab.research.google.com/github/machiobrian/Energy/blob/master/HouseHold.ipynb\" target=\"_parent\"><img src=\"https://colab.research.google.com/assets/colab-badge.svg\" alt=\"Open In Colab\"/></a>"
      ]
    },
    {
      "cell_type": "code",
      "execution_count": null,
      "metadata": {
        "id": "MzkGXN49drLO"
      },
      "outputs": [],
      "source": [
        "# load the kaggle.json file into the space\n",
        "\n",
        "# instantiate kaggle\n",
        "! pip install kaggle\n",
        "\n",
        "#  crate a dir to load the .json file\n",
        "! mkdir ~/.kaggle\n",
        "\n",
        "# copy the .json file into kaggle\n",
        "! cp kaggle.json ~/.kaggle/\n",
        "\n",
        "# allow RW priiledges\n",
        "! chmod 600 ~/.kaggle/kaggle.json\n"
      ]
    },
    {
      "cell_type": "code",
      "source": [
        "# download the kaggle dataset\n",
        "! kaggle datasets download -d ecoco2/household-appliances-power-consumption"
      ],
      "metadata": {
        "colab": {
          "base_uri": "https://localhost:8080/"
        },
        "id": "JMr0OIMwepDG",
        "outputId": "4d3cfbca-d753-4d01-8df6-3f3949699031"
      },
      "execution_count": 2,
      "outputs": [
        {
          "output_type": "stream",
          "name": "stdout",
          "text": [
            "Downloading household-appliances-power-consumption.zip to /content\n",
            " 98% 247M/251M [00:03<00:00, 94.4MB/s]\n",
            "100% 251M/251M [00:03<00:00, 70.1MB/s]\n"
          ]
        }
      ]
    },
    {
      "cell_type": "code",
      "source": [
        "# its in zip mode thereofore, extract\n",
        "! unzip household-appliances-power-consumption.zip"
      ],
      "metadata": {
        "colab": {
          "base_uri": "https://localhost:8080/"
        },
        "id": "ssvfZlZnex66",
        "outputId": "c9efab50-c043-4bb5-9b3d-8dbee8bd4872"
      },
      "execution_count": 3,
      "outputs": [
        {
          "output_type": "stream",
          "name": "stdout",
          "text": [
            "Archive:  household-appliances-power-consumption.zip\n",
            "  inflating: 0_smart_plugs_devices.csv  \n",
            "  inflating: 3D_printer_29.csv       \n",
            "  inflating: air_conditioner_222.csv  \n",
            "  inflating: air_purifier_293.csv    \n",
            "  inflating: boiler_217.csv          \n",
            "  inflating: boiler_226.csv          \n",
            "  inflating: boiler_233.csv          \n",
            "  inflating: coffee_37.csv           \n",
            "  inflating: coffee_54.csv           \n",
            "  inflating: coffee_97.csv           \n",
            "  inflating: computer_44.csv         \n",
            "  inflating: dehumidifier_310.csv    \n",
            "  inflating: dehumidifier_322.csv    \n",
            "  inflating: dishwasher_53.csv       \n",
            "  inflating: dryer_219.csv           \n",
            "  inflating: fan_215.csv             \n",
            "  inflating: freezer_249.csv         \n",
            "  inflating: fridge_207.csv          \n",
            "  inflating: fridge_284.csv          \n",
            "  inflating: fridge_317.csv          \n",
            "  inflating: fridge_98.csv           \n",
            "  inflating: internet_router_131.csv  \n",
            "  inflating: internet_router_295.csv  \n",
            "  inflating: laptop_289.csv          \n",
            "  inflating: laptop_64.csv           \n",
            "  inflating: micro_wave_oven_147.csv  \n",
            "  inflating: micro_wave_oven_314.csv  \n",
            "  inflating: phone_charger_282.csv   \n",
            "  inflating: printer_286.csv         \n",
            "  inflating: radiator_309.csv        \n",
            "  inflating: screen_146.csv          \n",
            "  inflating: screen_302.csv          \n",
            "  inflating: solar_panel_325.csv     \n",
            "  inflating: sound_system_252.csv    \n",
            "  inflating: tv_290.csv              \n",
            "  inflating: vacuum_236.csv          \n",
            "  inflating: vacuum_254.csv          \n",
            "  inflating: washing_machine_135.csv  \n",
            "  inflating: washing_machine_157.csv  \n",
            "  inflating: washing_machine_218.csv  \n",
            "  inflating: washing_machine_32.csv  \n",
            "  inflating: washing_machine_343.csv  \n",
            "  inflating: washing_machine_52.csv  \n"
          ]
        }
      ]
    },
    {
      "cell_type": "code",
      "source": [],
      "metadata": {
        "id": "U7fhCXnue5y6"
      },
      "execution_count": null,
      "outputs": []
    }
  ]
}